{
 "cells": [
  {
   "cell_type": "code",
   "execution_count": 1,
   "id": "9714f3f4-6f17-4961-9186-c2e19ee7a8f2",
   "metadata": {},
   "outputs": [],
   "source": [
    "import os\n",
    "import hashlib"
   ]
  },
  {
   "cell_type": "code",
   "execution_count": 2,
   "id": "b1d3895e-6833-465e-8a71-0b550dc652f5",
   "metadata": {},
   "outputs": [],
   "source": [
    "def hashfile(filename):\n",
    "   with open(filename, 'rb') as f:\n",
    "      hasher = hashlib.sha1()\n",
    "      while True:\n",
    "         data = f.read(1024)\n",
    "         if not data:\n",
    "            break\n",
    "         hasher.update(data)\n",
    "      return hasher.hexdigest()\n",
    " \n",
    "def find_duplicates(dirname):\n",
    "   files = os.listdir(dirname)\n",
    "   print(\"Analyzing {}\".format(dirname))\n",
    "   if len(files) < 2:\n",
    "      return\n",
    "   hashes = {}\n",
    "   for filename in files:\n",
    "      path = os.path.join(dirname, filename)\n",
    "      if not os.path.isfile(path):\n",
    "         continue\n",
    "      file_hash = hashfile(path)\n",
    "      if file_hash not in hashes:\n",
    "         hashes[file_hash] = path\n",
    "      else:\n",
    "         print(f'Duplicate found: {path} and {hashes[file_hash]}')"
   ]
  },
  {
   "cell_type": "code",
   "execution_count": 4,
   "id": "41073bb8-b0bf-411b-9be7-fbe7d868d862",
   "metadata": {},
   "outputs": [
    {
     "name": "stdout",
     "output_type": "stream",
     "text": [
      "Analyzing /Users/orlando.amaralcejas/Desktop/developing/privacyPolicies/All/\n",
      "Done\n"
     ]
    }
   ],
   "source": [
    "# find_duplicates('./')\n",
    "find_duplicates('/Users/orlando.amaralcejas/Desktop/developing/privacyPolicies/All/')\n",
    "# find_duplicates('/Users/orlando.amaralcejas/Desktop/developing/privacyPolicies/AppleStore/apps/')\n",
    "# find_duplicates('/Users/orlando.amaralcejas/Desktop/developing/privacyPolicies/AppleStore/games/')\n",
    "# find_duplicates('/Users/orlando.amaralcejas/Desktop/developing/privacyPolicies/GooglePlayStore/phone/apps/')\n",
    "# find_duplicates('/Users/orlando.amaralcejas/Desktop/developing/privacyPolicies/GooglePlayStore/phone/kids/')\n",
    "# find_duplicates('/Users/orlando.amaralcejas/Desktop/developing/privacyPolicies/GooglePlayStore/tablet/games/')\n",
    "    \n",
    "print(\"Done\")"
   ]
  },
  {
   "cell_type": "code",
   "execution_count": null,
   "id": "eb005fb5-84f1-465d-9271-59ef2e271dff",
   "metadata": {},
   "outputs": [],
   "source": []
  }
 ],
 "metadata": {
  "kernelspec": {
   "display_name": "Python 3 (ipykernel)",
   "language": "python",
   "name": "python3"
  },
  "language_info": {
   "codemirror_mode": {
    "name": "ipython",
    "version": 3
   },
   "file_extension": ".py",
   "mimetype": "text/x-python",
   "name": "python",
   "nbconvert_exporter": "python",
   "pygments_lexer": "ipython3",
   "version": "3.11.4"
  }
 },
 "nbformat": 4,
 "nbformat_minor": 5
}
